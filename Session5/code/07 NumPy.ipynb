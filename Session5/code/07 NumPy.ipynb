{
 "cells": [
  {
   "cell_type": "markdown",
   "metadata": {},
   "source": [
    "# NumPy\n",
    "\n",
    "NumPy is the fundamental package for scientific computing with Python. It contains among other things:\n",
    "\n",
    "- a powerful N-dimensional array object\n",
    "- sophisticated (broadcasting) functions\n",
    "- tools for integrating C/C++ and Fortran code\n",
    "- useful linear algebra, Fourier transform, and random number capabilities\n",
    "\n",
    "[http://www.numpy.org/](http://www.numpy.org/ \"NumPy\")"
   ]
  },
  {
   "cell_type": "code",
   "execution_count": null,
   "metadata": {
    "collapsed": false
   },
   "outputs": [],
   "source": [
    "# Create array\n",
    "import numpy as np\n",
    "myList = [4,5,6]\n",
    "myArray = np.array(myList)\n",
    "print myArray\n",
    "print myArray.shape"
   ]
  },
  {
   "cell_type": "code",
   "execution_count": null,
   "metadata": {
    "collapsed": false
   },
   "outputs": [],
   "source": [
    "# Access Data\n",
    "myList = [[4,5,6],[6,7,8]]\n",
    "myArray = np.array(myList)\n",
    "print myArray\n",
    "print myArray.shape\n",
    "print 'First row = %s'%myArray[0]\n",
    "print 'Last row = %s'%myArray[-1]\n",
    "print 'Specific row and column = %s'%myArray[0,1]\n",
    "print 'whole column = %s'%myArray[:,1]"
   ]
  },
  {
   "cell_type": "code",
   "execution_count": null,
   "metadata": {
    "collapsed": false
   },
   "outputs": [],
   "source": [
    "# Arithmetic\n",
    "myArray1 = np.array([1,1,1])\n",
    "myArray2 = np.array([2,1,3])\n",
    "print 'Addition = %s'%(myArray1 + myArray2)\n",
    "print 'Multiplication = %s'%(myArray1 * myArray2)"
   ]
  }
 ],
 "metadata": {
  "kernelspec": {
   "display_name": "Python [default]",
   "language": "python",
   "name": "python2"
  },
  "language_info": {
   "codemirror_mode": {
    "name": "ipython",
    "version": 2
   },
   "file_extension": ".py",
   "mimetype": "text/x-python",
   "name": "python",
   "nbconvert_exporter": "python",
   "pygments_lexer": "ipython2",
   "version": "2.7.12"
  }
 },
 "nbformat": 4,
 "nbformat_minor": 1
}
