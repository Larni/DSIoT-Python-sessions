{
 "cells": [
  {
   "cell_type": "markdown",
   "metadata": {},
   "source": [
    "# pandas\n",
    "\n",
    "pandas is an open source, BSD-licensed library providing high-performance, easy-to-use data structures and data analysis tools for the Python programming language\n",
    "\n",
    "[http://pandas.pydata.org/](http://pandas.pydata.org/ \"Python Data Analysis Library\")"
   ]
  },
  {
   "cell_type": "code",
   "execution_count": null,
   "metadata": {
    "collapsed": false
   },
   "outputs": [],
   "source": [
    "# Series\n",
    "import numpy as np\n",
    "import pandas as pd\n",
    "myArray = np.array([2,3,4])\n",
    "row_names = ['p','q','r']\n",
    "mySeries = pd.Series(myArray,index=row_names)\n",
    "print mySeries\n",
    "print mySeries[0]\n",
    "print mySeries['p']"
   ]
  },
  {
   "cell_type": "code",
   "execution_count": null,
   "metadata": {
    "collapsed": false
   },
   "outputs": [],
   "source": [
    "# Dataframes\n",
    "myArray = np.array([[2,3,4],[5,6,7]])\n",
    "row_names = ['p','q']\n",
    "col_names = ['One','Two','Three']\n",
    "myDataFrame = pd.DataFrame(myArray,index = row_names,columns = col_names)\n",
    "print myDataFrame\n",
    "print 'Method 1 :'\n",
    "print 'One column = \\n%s'%myDataFrame['One']\n",
    "print 'Method 2 :'\n",
    "print 'One column = \\n%s'%myDataFrame.One"
   ]
  },
  {
   "cell_type": "markdown",
   "metadata": {},
   "source": [
    "# Working with Data"
   ]
  },
  {
   "cell_type": "code",
   "execution_count": null,
   "metadata": {
    "collapsed": false
   },
   "outputs": [],
   "source": [
    "# Let's load data from a csv\n",
    "df = pd.read_csv(\"../data/diabetes.csv\")\n",
    "df.info()"
   ]
  },
  {
   "cell_type": "code",
   "execution_count": null,
   "metadata": {
    "collapsed": false
   },
   "outputs": [],
   "source": [
    "# Examine data\n",
    "df.head()"
   ]
  },
  {
   "cell_type": "markdown",
   "metadata": {},
   "source": [
    "We are now going to standardize the data:\n",
    "\n",
    "- for each column, we compute the mean and remove the standard deviation\n",
    "- Let's say we have points x1, x2,.. xn in column \"AGE\"\n",
    "- mean = $(1/n) * (x1+x2+...xn)$\n",
    "- std = $(1/n) * ( (x1-mean)^2 + (x2 -mean)^2 + ...)$"
   ]
  },
  {
   "cell_type": "code",
   "execution_count": null,
   "metadata": {
    "collapsed": false
   },
   "outputs": [],
   "source": [
    "# Let's start with an example on the AGE feature\n",
    "# I create a new array for easier manipulation\n",
    "arr_age = df[\"Age\"].values\n",
    "arr_age[:10]"
   ]
  },
  {
   "cell_type": "markdown",
   "metadata": {},
   "source": [
    "with numpy array we can do simple vectorized operations\n",
    "so if i do\n",
    "```\n",
    "    arr = arr - c\n",
    "```\n",
    "it subtracts c to all elements in arr if i do\n",
    "```\n",
    "    arr = arr/c \n",
    "```\n",
    "it divides all elements in `arr` by `c`"
   ]
  },
  {
   "cell_type": "code",
   "execution_count": null,
   "metadata": {
    "collapsed": false
   },
   "outputs": [],
   "source": [
    "mean_age = np.mean(arr_age)\n",
    "std_age = np.std(arr_age)\n",
    "print 'Age Mean: {} Std:{}'.format(mean_age, std_age)"
   ]
  },
  {
   "cell_type": "code",
   "execution_count": null,
   "metadata": {
    "collapsed": false
   },
   "outputs": [],
   "source": [
    "# So to compute the standardized array, I write :\n",
    "arr_age_new = (arr_age - mean_age)/std_age\n",
    "arr_age_new[:10]"
   ]
  },
  {
   "cell_type": "code",
   "execution_count": null,
   "metadata": {
    "collapsed": false
   },
   "outputs": [],
   "source": [
    "# I can now apply the same idea to a pandas dataframe\n",
    "# using some built in pandas functions :\n",
    "df_new = (df - df.mean()) / df.std()\n",
    "df_new.head()"
   ]
  },
  {
   "cell_type": "code",
   "execution_count": null,
   "metadata": {
    "collapsed": false
   },
   "outputs": [],
   "source": [
    "df.head()"
   ]
  }
 ],
 "metadata": {
  "anaconda-cloud": {},
  "kernelspec": {
   "display_name": "Python [default]",
   "language": "python",
   "name": "python2"
  },
  "language_info": {
   "codemirror_mode": {
    "name": "ipython",
    "version": 2
   },
   "file_extension": ".py",
   "mimetype": "text/x-python",
   "name": "python",
   "nbconvert_exporter": "python",
   "pygments_lexer": "ipython2",
   "version": "2.7.12"
  }
 },
 "nbformat": 4,
 "nbformat_minor": 1
}
