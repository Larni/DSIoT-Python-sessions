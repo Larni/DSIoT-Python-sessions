{
 "cells": [
  {
   "cell_type": "markdown",
   "metadata": {},
   "source": [
    "# K-nearest neighbors algorithm\n",
    "\n",
    "In pattern recognition, the k-Nearest Neighbors algorithm (or k-NN for short) is a non-parametric method used for classification and regression.[1] In both cases, the input consists of the k closest training examples in the feature space. The output depends on whether k-NN is used for classification or regression:"
   ]
  },
  {
   "cell_type": "code",
   "execution_count": null,
   "metadata": {
    "collapsed": true
   },
   "outputs": [],
   "source": [
    "# k-Nearest Neighbor Regression\n",
    "import numpy as np\n",
    "from sklearn import datasets\n",
    "from sklearn.neighbors import KNeighborsRegressor\n",
    "import pandas as pd"
   ]
  },
  {
   "cell_type": "code",
   "execution_count": null,
   "metadata": {
    "collapsed": true
   },
   "outputs": [],
   "source": [
    "# load the diabetes datasets\n",
    "# for info on this dataset, refer to the linear_regression script\n",
    "dataset = datasets.load_diabetes()"
   ]
  },
  {
   "cell_type": "code",
   "execution_count": null,
   "metadata": {
    "collapsed": true
   },
   "outputs": [],
   "source": [
    "#Let us now build a pandas dataframe hosting the data at hand\n",
    "\n",
    "# We first need the list of feature names for our columns\n",
    "# BMI is the Body Mass Index\n",
    "# ABP is the Average Blood Pressure\n",
    "lfeat = [\"Age\", \"Sex\", \"BMI\", \"ABP\", \"S1\", \"S2\", \"S3\", \"S4\", \"S5\", \"S6\"]"
   ]
  },
  {
   "cell_type": "code",
   "execution_count": null,
   "metadata": {
    "collapsed": false
   },
   "outputs": [],
   "source": [
    "# We now build the Dataframe, with the data as argument\n",
    "# and the list of column names as keyword argument\n",
    "df_diabetes = pd.DataFrame(dataset.data, columns = lfeat)\n",
    "# Let's have a look at the first few entries\n",
    "print \"Printing data up to the 5th sample\"\n",
    "print df_diabetes.iloc[:5,:] # Look at the first 5 samples for all features."
   ]
  },
  {
   "cell_type": "code",
   "execution_count": null,
   "metadata": {
    "collapsed": true
   },
   "outputs": [],
   "source": [
    "# We also want to add the regression target\n",
    "# Let's create a new column :\n",
    "df_diabetes[\"Target\"] = dataset.target # Must have the correct size of course"
   ]
  },
  {
   "cell_type": "code",
   "execution_count": null,
   "metadata": {
    "collapsed": false
   },
   "outputs": [],
   "source": [
    "#Let's review our complete dataframe:\n",
    "print\n",
    "print \"Printing data up to the 5th sample\"\n",
    "print \"Also print the target\"\n",
    "print df_diabetes.iloc[:5,:] # Look at the first 5 samples for all features incuding target"
   ]
  },
  {
   "cell_type": "code",
   "execution_count": null,
   "metadata": {
    "collapsed": true
   },
   "outputs": [],
   "source": [
    "# Nearest neighbors are a simple, yet powerful regression method\n",
    "# First, we define a metric to quantify how close two samples are together\n",
    "# This can be the euclidean distance\n",
    "# Then, we look for the k-closest points in the sense of the metric\n",
    "# And we average the response of these points\n",
    "# Mathematically, this gives :\n",
    "# y(sample) = 1/k * (y_neighbor1 + y_neighbor2 + .. + y_neighbork)\n",
    "\n",
    "# Nearest neighbors has the advantage of naturally adapting to non linearities of the data\n",
    "# We only need to specify the number of neighbors we are looking for : k\n",
    "\n",
    "# However, nearest neighbors\n",
    "# suffer from the curse of dimensionality : with high dimensional data, it is difficult\n",
    "# to have enough data to provide a smooth approximation to the target.\n",
    "# Nearest neighbors are also expensive to evaluate since we need to find the k nearest neighbors\n",
    "# for each point.\n",
    "\n",
    "#As before, we create an instance of the model\n",
    "model = KNeighborsRegressor()"
   ]
  },
  {
   "cell_type": "code",
   "execution_count": null,
   "metadata": {
    "collapsed": false
   },
   "outputs": [],
   "source": [
    "# Which we then fit to the training data X, Y\n",
    "# with pandas we have to split the df in two :\n",
    "# the feature part (X) and the target part (Y)\n",
    "# This is done below :\n",
    "\n",
    "data = df_diabetes[lfeat].values\n",
    "target = df_diabetes[\"Target\"].values\n",
    "model.fit(data, target)\n",
    "print(model)"
   ]
  },
  {
   "cell_type": "code",
   "execution_count": null,
   "metadata": {
    "collapsed": false
   },
   "outputs": [],
   "source": [
    "# as before, we can use the model to make predictions on any data\n",
    "\n",
    "# summarize the fit of the model\n",
    "# we can estimate the performance of the fit using the mse metric\n",
    "# in this case, we simply compute the mean of the squared error on the sample\n",
    "# the lower, the better\n",
    "mse = np.mean((predicted-expected)**2)\n",
    "print(\"Residual sum of squares: %.2f\" % mse)\n",
    "# Explained variance score: 1 is perfect prediction\n",
    "print('Variance score: %.2f' % model.score(data, target))"
   ]
  },
  {
   "cell_type": "markdown",
   "metadata": {
    "collapsed": true
   },
   "source": [
    "# Business formulation - continued\n",
    "\n",
    "This is all good but it does not take into account non linearities of the data.\n",
    "What if the illness depends on $age^2$?\n",
    "\n",
    "Linear regression will then provide a poor model!\n",
    "\n",
    "This is where nearest neighbors come into play.\n",
    "It has the advantage of being non-parametric it is therefore a more flexible model.\n",
    "\n",
    "See picture\n",
    "The data is clearly non linear and the key idea of kNN is to predict the response for a point by an average of its closest neighbors.\n",
    "\n",
    "Here, we show some points (salmon color) and their neighbors (aubergine)\n",
    "We see that by averagin the illness value of the neighbors, we get something pretty close to the true value and this naturally takes care of non-linearities"
   ]
  },
  {
   "cell_type": "code",
   "execution_count": 2,
   "metadata": {
    "collapsed": false
   },
   "outputs": [
    {
     "data": {
      "image/png": "[encoded data removed]",
      "text/plain": [
       "<IPython.core.display.Image object>"
      ]
     },
     "execution_count": 2,
     "metadata": {},
     "output_type": "execute_result"
    }
   ],
   "source": [
    "from IPython.display import Image\n",
    "Image('figures/knn_reg.png')"
   ]
  },
  {
   "cell_type": "code",
   "execution_count": null,
   "metadata": {
    "collapsed": true
   },
   "outputs": [],
   "source": []
  }
 ],
 "metadata": {
  "kernelspec": {
   "display_name": "Python 2",
   "language": "python",
   "name": "python2"
  },
  "language_info": {
   "codemirror_mode": {
    "name": "ipython",
    "version": 2
   },
   "file_extension": ".py",
   "mimetype": "text/x-python",
   "name": "python",
   "nbconvert_exporter": "python",
   "pygments_lexer": "ipython2",
   "version": "2.7.11"
  }
 },
 "nbformat": 4,
 "nbformat_minor": 0
}
