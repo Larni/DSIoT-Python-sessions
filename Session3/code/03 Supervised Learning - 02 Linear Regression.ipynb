{
 "cells": [
  {
   "cell_type": "markdown",
   "metadata": {},
   "source": [
    "# Linear Regression\n",
    "\n",
    "In statistics, linear regression is an approach for modeling the relationship between a scalar dependent variable y and one or more explanatory variables (or independent variables) denoted X. The case of one explanatory variable is called simple linear regression.\n",
    "\n",
    "https://en.wikipedia.org/wiki/Linear_regression"
   ]
  },
  {
   "cell_type": "code",
   "execution_count": null,
   "metadata": {
    "collapsed": true
   },
   "outputs": [],
   "source": [
    "# Linear Regression\n",
    "import numpy as np\n",
    "import pandas as pd\n",
    "from sklearn import datasets\n",
    "from sklearn.linear_model import LinearRegression"
   ]
  },
  {
   "cell_type": "code",
   "execution_count": null,
   "metadata": {
    "collapsed": true
   },
   "outputs": [],
   "source": [
    "# load the diabetes datasets\n",
    "# datasets this is a sklearn utility which loads a dataset for you\n",
    "# existing datasets include load_boston (boston house prices)\n",
    "# or load_iris (flower data set)\n",
    "# Here, we load the diabetes dataset\n",
    "# To access the feature vector, call datasets.data => returns X, a 442x10 array\n",
    "# To acess the target , call datasets.target => returns Y, an array with 442 entries\n",
    "# Basically, we have 442 samples, each sample being describes by 10 variables (= features)\n",
    "dataset = datasets.load_diabetes()"
   ]
  },
  {
   "cell_type": "code",
   "execution_count": null,
   "metadata": {
    "collapsed": true
   },
   "outputs": [],
   "source": [
    "#Let us now build a pandas dataframe hosting the data at hand\n",
    "\n",
    "# We first need the list of feature names for our columns\n",
    "# BMI is the Body Mass Index\n",
    "# ABP is the Average Blood Pressure\n",
    "lfeat = [\"Age\", \"Sex\", \"BMI\", \"ABP\", \"S1\", \"S2\", \"S3\", \"S4\", \"S5\", \"S6\"]"
   ]
  },
  {
   "cell_type": "code",
   "execution_count": null,
   "metadata": {
    "collapsed": true
   },
   "outputs": [],
   "source": [
    "# We now build the Dataframe, with the data as argument\n",
    "# and the list of column names as keyword argument\n",
    "df_diabetes = pd.DataFrame(dataset.data, columns = lfeat)"
   ]
  },
  {
   "cell_type": "code",
   "execution_count": null,
   "metadata": {
    "collapsed": false
   },
   "outputs": [],
   "source": [
    "# Let's have a look at the first few entries\n",
    "print \"Printing data up to the 5th sample\"\n",
    "df_diabetes.iloc[:5,:] # Look at the first 5 samples for all features."
   ]
  },
  {
   "cell_type": "code",
   "execution_count": null,
   "metadata": {
    "collapsed": true
   },
   "outputs": [],
   "source": [
    "# We also want to add the regression target\n",
    "# Let's create a new column :\n",
    "df_diabetes[\"Target\"] = dataset.target # Must have the correct size of course"
   ]
  },
  {
   "cell_type": "code",
   "execution_count": null,
   "metadata": {
    "collapsed": false
   },
   "outputs": [],
   "source": [
    "#Let's review our complete dataframe:\n",
    "print\n",
    "print \"Printing data up to the 5th sample\"\n",
    "print \"Also print the target\"\n",
    "df_diabetes.iloc[:5,:] # Look at the first 5 samples for all features incuding target"
   ]
  },
  {
   "cell_type": "code",
   "execution_count": null,
   "metadata": {
    "collapsed": true
   },
   "outputs": [],
   "source": [
    "# We will fit a linear regression model to the data.\n",
    "# This is the most basic supervised learning method\n",
    "# Let us first introduce some notation\n",
    "# We write x = (x1, x2, ... x10) a row vector of X\n",
    "# We model the response y as a linear combination of the columns of x :\n",
    "# y = b0 + b1x1 + ... + b10x10 (b0 is called the intercept)\n",
    "# We now want to find the vector b = (b0, b1, .. b10) which gives the best representation of the data.\n",
    "# Best is generally understood with respect to a loss criterion.\n",
    "# The most popular is \"called least squares\".\n",
    "# We try to minimize the squared error i.e. (y-b0 + b1x1 + ... + b10x10)**2\n",
    "# With several samples (more than one row vector of X),\n",
    "# We minimize the sum of the squared errors.\n",
    "# In vector notation, this means minimizing ||(Y-Xb)||**2 (1)\n",
    "# where we have added a column of ones to X to account for the intercept\n",
    "# The value of b which minimises (1) can be found analytically or with gradient descent."
   ]
  },
  {
   "cell_type": "code",
   "execution_count": null,
   "metadata": {
    "collapsed": true
   },
   "outputs": [],
   "source": [
    "# fit a linear regression model to the data\n",
    "# This creates an instance of the Linear Regression class of model\n",
    "model = LinearRegression()"
   ]
  },
  {
   "cell_type": "code",
   "execution_count": null,
   "metadata": {
    "collapsed": false
   },
   "outputs": [],
   "source": [
    "#the model.fit command will automatically find the coefficient b we talked about earlier\n",
    "# we only have to specify X = dataset.data and Y = dataset.target\n",
    "# with pandas we have to split the df in two :\n",
    "# the feature part (X) and the target part (Y)\n",
    "# This is done below :\n",
    "\n",
    "data = df_diabetes[lfeat].values\n",
    "target = df_diabetes[\"Target\"].values\n",
    "\n",
    "model.fit(data, target)\n",
    "print(model)"
   ]
  },
  {
   "cell_type": "code",
   "execution_count": null,
   "metadata": {
    "collapsed": true
   },
   "outputs": [],
   "source": [
    "# Once the model has been fitted, it can be used to make new predictions\n",
    "# (A new prediction is simply computed as y = b0 + b1x1 + ... + b10x10 \n",
    "#  where b was found in the fitting step and x is any feature vector/matrix\n",
    "# to this end, we simply call model.predict(x)\n",
    "expected = target\n",
    "predicted = model.predict(data)"
   ]
  },
  {
   "cell_type": "code",
   "execution_count": null,
   "metadata": {
    "collapsed": false
   },
   "outputs": [],
   "source": [
    "# summarize the fit of the model\n",
    "# we can estimate the performance of the fit using the mse metric\n",
    "# in this case, we simply compute the mean of the squared error on the sample\n",
    "# the lower, the better\n",
    "mse = np.mean((predicted-expected)**2)\n",
    "print(\"Residual sum of squares: %.2f\" % mse)\n",
    "# Explained variance score: 1 is perfect prediction\n",
    "print('Variance score: %.2f' % model.score(data, target))"
   ]
  },
  {
   "cell_type": "markdown",
   "metadata": {},
   "source": [
    "# Plotting results\n",
    "\n",
    "Here we have used 10 features to create a model. This cannot be plotted in 2D. Below is an example from the scikit learn web site showing just one feature and plotting the results.\n",
    "http://scikit-learn.org/stable/auto_examples/linear_model/plot_ols.html#example-linear-model-plot-ols-py"
   ]
  },
  {
   "cell_type": "code",
   "execution_count": null,
   "metadata": {
    "collapsed": false
   },
   "outputs": [],
   "source": [
    "%matplotlib inline\n",
    "\n",
    "# Code source: Jaques Grobler\n",
    "# License: BSD 3 clause\n",
    "\n",
    "import matplotlib.pyplot as plt\n",
    "import numpy as np\n",
    "from sklearn import datasets, linear_model\n",
    "\n",
    "# Load the diabetes dataset\n",
    "diabetes = datasets.load_diabetes()\n",
    "\n",
    "\n",
    "# Use only one feature\n",
    "diabetes_X = diabetes.data[:, np.newaxis, 2]\n",
    "\n",
    "# Split the data into training/testing sets\n",
    "diabetes_X_train = diabetes_X[:-20]\n",
    "diabetes_X_test = diabetes_X[-20:]\n",
    "\n",
    "# Split the targets into training/testing sets\n",
    "diabetes_y_train = diabetes.target[:-20]\n",
    "diabetes_y_test = diabetes.target[-20:]\n",
    "\n",
    "# Create linear regression object\n",
    "regr = linear_model.LinearRegression()\n",
    "\n",
    "# Train the model using the training sets\n",
    "regr.fit(diabetes_X_train, diabetes_y_train)\n",
    "\n",
    "# The coefficients\n",
    "print('Coefficients: \\n', regr.coef_)\n",
    "# The mean square error\n",
    "print(\"Residual sum of squares: %.2f\"\n",
    "      % np.mean((regr.predict(diabetes_X_test) - diabetes_y_test) ** 2))\n",
    "# Explained variance score: 1 is perfect prediction\n",
    "print('Variance score: %.2f' % regr.score(diabetes_X_test, diabetes_y_test))\n",
    "\n",
    "# Plot outputs\n",
    "plt.scatter(diabetes_X_test, diabetes_y_test,  color='black')\n",
    "plt.plot(diabetes_X_test, regr.predict(diabetes_X_test), color='blue',\n",
    "         linewidth=3)\n",
    "\n",
    "plt.xticks(())\n",
    "plt.yticks(())\n",
    "\n",
    "plt.show()"
   ]
  },
  {
   "cell_type": "markdown",
   "metadata": {},
   "source": [
    "# Business formulation\n",
    "\n",
    "Our dataset is the diabetes dataset\n",
    "See diabetes_dataset_desc.txt for a complete description\n",
    "\n",
    "- How does a doctor go about diagnosing diabetes ?\n",
    "- We assume the doctor has already treated many patients\n",
    "- So given his examination of a new patient,\n",
    "- He uses his experience to find out whether he has diabetes or not.\n",
    "\n",
    "How can we do the same mathematically ?\n",
    "\n",
    "- We have gathered data i.e. measures on the patient + current state of the disease\n",
    "- We will see that this data can be used to give us expertise in diagnosing diabetes\n",
    "\n",
    "Perhaps the most intuitive is to look for linear relations\n",
    "By linear, we mean direct proportionality\n",
    "For instance, you may want to predict how many people in the classroom get sunburnt given the average temperature\n",
    "You may observe that for average 30 degrees, 10 people get sunburnt\n",
    "So you extrapolate saying that for 40 degrees, 40*10/30 = 13.3 people will get sunburnt\n",
    "\n",
    "Building on that, you want to predict the status of the patient given an observation\n",
    "For instance, you may think that a patient is more likely to be ill the larger his weight is\n",
    "So you may go about modelling this as illness = weight * (positive coefficient)\n",
    "That is, the higher the weight, the more dramatic the illness\n",
    "And you can find out the coefficient from existing data\n",
    "\n",
    "Going beyond that, you may think that there are several causes for the disease\n",
    "\n",
    "It could be that the older you get, the likelier you are to be sick\n",
    "so illness = age * (positive coefficient)\n",
    "\n",
    "The fundamental idea of multivariate regression is that you may find a better\n",
    "prediction of the disease if you incorporate several causes.\n",
    "So you model illness as illness = age * (c1) + weight * (c2) + other_cause * (c3) + ....\n",
    "\n",
    "And then you use the data to find out the value of the coefficients"
   ]
  },
  {
   "cell_type": "code",
   "execution_count": null,
   "metadata": {
    "collapsed": true
   },
   "outputs": [],
   "source": []
  }
 ],
 "metadata": {
  "kernelspec": {
   "display_name": "Python 2",
   "language": "python",
   "name": "python2"
  },
  "language_info": {
   "codemirror_mode": {
    "name": "ipython",
    "version": 2
   },
   "file_extension": ".py",
   "mimetype": "text/x-python",
   "name": "python",
   "nbconvert_exporter": "python",
   "pygments_lexer": "ipython2",
   "version": "2.7.11"
  }
 },
 "nbformat": 4,
 "nbformat_minor": 0
}
