{
 "cells": [
  {
   "cell_type": "code",
   "execution_count": 1,
   "metadata": {
    "collapsed": false
   },
   "outputs": [
    {
     "name": "stdout",
     "output_type": "stream",
     "text": [
      "(768L, 9L)\n",
      "[[   6.     148.      72.    ...,      nan   33.6      0.627]\n",
      " [   1.      85.      66.    ...,      nan   26.6      0.351]\n",
      " [   8.     183.      64.    ...,      nan   23.3      0.672]\n",
      " ..., \n",
      " [   5.     121.      72.    ...,  112.      26.2      0.245]\n",
      " [   1.     126.      60.    ...,      nan   30.1      0.349]\n",
      " [   1.      93.      70.    ...,      nan   30.4      0.315]]\n",
      "[[   6.          148.           72.         ...,  155.54822335   33.6\n",
      "     0.627     ]\n",
      " [   1.           85.           66.         ...,  155.54822335   26.6\n",
      "     0.351     ]\n",
      " [   8.          183.           64.         ...,  155.54822335   23.3\n",
      "     0.672     ]\n",
      " ..., \n",
      " [   5.          121.           72.         ...,  112.           26.2\n",
      "     0.245     ]\n",
      " [   1.          126.           60.         ...,  155.54822335   30.1\n",
      "     0.349     ]\n",
      " [   1.           93.           70.         ...,  155.54822335   30.4\n",
      "     0.315     ]]\n"
     ]
    }
   ],
   "source": [
    "# Mark 0 values as missing and impute with the mean\n",
    "import numpy as np\n",
    "import urllib\n",
    "from sklearn . preprocessing import Imputer\n",
    "# Load the Pima Indians Diabetes dataset\n",
    "url = \"http://goo.gl/j0Rvxq\"\n",
    "raw_data = urllib . urlopen ( url)\n",
    "dataset = np . loadtxt ( raw_data , delimiter = \",\")\n",
    "print ( dataset . shape)\n",
    "# separate the data and target attributes\n",
    "X = dataset [:, 0 : 7]\n",
    "y = dataset [:, 8]\n",
    "# Mark all zero values as 0\n",
    "X [ X == 0 ]= np . nan\n",
    "# Impute all missing values with the mean of the attribute\n",
    "imp = Imputer ( missing_values = 'NaN' , strategy = 'mean')\n",
    "imputed_X = imp . fit_transform ( X)\n",
    "print X\n",
    "print imputed_X"
   ]
  },
  {
   "cell_type": "code",
   "execution_count": null,
   "metadata": {
    "collapsed": true
   },
   "outputs": [],
   "source": []
  }
 ],
 "metadata": {
  "kernelspec": {
   "display_name": "Python 2",
   "language": "python",
   "name": "python2"
  },
  "language_info": {
   "codemirror_mode": {
    "name": "ipython",
    "version": 2
   },
   "file_extension": ".py",
   "mimetype": "text/x-python",
   "name": "python",
   "nbconvert_exporter": "python",
   "pygments_lexer": "ipython2",
   "version": "2.7.10"
  }
 },
 "nbformat": 4,
 "nbformat_minor": 0
}
