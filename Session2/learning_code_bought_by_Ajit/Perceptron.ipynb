{
 "cells": [
  {
   "cell_type": "code",
   "execution_count": 1,
   "metadata": {
    "collapsed": false
   },
   "outputs": [
    {
     "name": "stdout",
     "output_type": "stream",
     "text": [
      "Perceptron(alpha=0.0001, class_weight=None, eta0=1.0, fit_intercept=True,\n",
      "      n_iter=5, n_jobs=1, penalty=None, random_state=0, shuffle=True,\n",
      "      verbose=0, warm_start=False)\n",
      "11858.9321267\n",
      "0.0180995475113\n"
     ]
    }
   ],
   "source": [
    "# Perceptron\n",
    "import numpy as np\n",
    "from sklearn import datasets\n",
    "from sklearn . linear_model import Perceptron\n",
    "# load the diabetes datasets\n",
    "dataset = datasets . load_diabetes ()\n",
    "# fit a Perceptron model to the data\n",
    "model = Perceptron ()\n",
    "model . fit ( dataset . data , dataset . target)\n",
    "print ( model)\n",
    "# make predictions\n",
    "expected = dataset . target\n",
    "predicted = model . predict ( dataset . data)\n",
    "# summarize the fit of the model\n",
    "mse = np . mean (( predicted - expected )** 2)\n",
    "print ( mse)\n",
    "print ( model . score ( dataset . data , dataset . target ))"
   ]
  },
  {
   "cell_type": "code",
   "execution_count": null,
   "metadata": {
    "collapsed": true
   },
   "outputs": [],
   "source": []
  }
 ],
 "metadata": {
  "kernelspec": {
   "display_name": "Python 2",
   "language": "python",
   "name": "python2"
  },
  "language_info": {
   "codemirror_mode": {
    "name": "ipython",
    "version": 2
   },
   "file_extension": ".py",
   "mimetype": "text/x-python",
   "name": "python",
   "nbconvert_exporter": "python",
   "pygments_lexer": "ipython2",
   "version": "2.7.10"
  }
 },
 "nbformat": 4,
 "nbformat_minor": 0
}
