{
 "cells": [
  {
   "cell_type": "code",
   "execution_count": 1,
   "metadata": {
    "collapsed": false
   },
   "outputs": [
    {
     "name": "stdout",
     "output_type": "stream",
     "text": [
      "LDA(n_components=None, priors=None, shrinkage=None, solver='svd',\n",
      "  store_covariance=False, tol=0.0001)\n",
      "             precision    recall  f1-score   support\n",
      "\n",
      "          0       1.00      1.00      1.00        50\n",
      "          1       0.98      0.96      0.97        50\n",
      "          2       0.96      0.98      0.97        50\n",
      "\n",
      "avg / total       0.98      0.98      0.98       150\n",
      "\n",
      "[[50  0  0]\n",
      " [ 0 48  2]\n",
      " [ 0  1 49]]\n"
     ]
    }
   ],
   "source": [
    "# Linear Discriminant Analysis\n",
    "from sklearn import datasets\n",
    "from sklearn import metrics\n",
    "from sklearn . lda import LDA\n",
    "# load the iris datasets\n",
    "dataset = datasets . load_iris ()\n",
    "# fit a LDA model to the data\n",
    "model = LDA ()\n",
    "model . fit ( dataset . data , dataset . target)\n",
    "print ( model)\n",
    "# make predictions\n",
    "expected = dataset . target\n",
    "predicted = model . predict ( dataset . data)\n",
    "# summarize the fit of the model\n",
    "print ( metrics . classification_report ( expected , predicted ))\n",
    "print ( metrics . confusion_matrix ( expected , predicted ))"
   ]
  },
  {
   "cell_type": "code",
   "execution_count": null,
   "metadata": {
    "collapsed": true
   },
   "outputs": [],
   "source": []
  }
 ],
 "metadata": {
  "kernelspec": {
   "display_name": "Python 2",
   "language": "python",
   "name": "python2"
  },
  "language_info": {
   "codemirror_mode": {
    "name": "ipython",
    "version": 2
   },
   "file_extension": ".py",
   "mimetype": "text/x-python",
   "name": "python",
   "nbconvert_exporter": "python",
   "pygments_lexer": "ipython2",
   "version": "2.7.10"
  }
 },
 "nbformat": 4,
 "nbformat_minor": 0
}
