{
 "cells": [
  {
   "cell_type": "code",
   "execution_count": 1,
   "metadata": {
    "collapsed": false
   },
   "outputs": [
    {
     "name": "stdout",
     "output_type": "stream",
     "text": [
      "LinearRegression(copy_X=True, fit_intercept=True, n_jobs=1, normalize=False)\n",
      "2859.69039877\n",
      "0.517749425413\n"
     ]
    }
   ],
   "source": [
    "# Linear Regression\n",
    "import numpy as np\n",
    "from sklearn import datasets\n",
    "from sklearn . linear_model import LinearRegression\n",
    "# load the diabetes datasets\n",
    "dataset = datasets . load_diabetes ()\n",
    "# fit a linear regression model to the data\n",
    "model = LinearRegression ()\n",
    "model . fit ( dataset . data , dataset . target)\n",
    "print ( model)\n",
    "# make predictions\n",
    "expected = dataset . target\n",
    "predicted = model . predict ( dataset . data)\n",
    "# summarize the fit of the model\n",
    "mse = np . mean (( predicted - expected )** 2)\n",
    "print ( mse)\n",
    "print ( model . score ( dataset . data , dataset . target ))"
   ]
  },
  {
   "cell_type": "code",
   "execution_count": null,
   "metadata": {
    "collapsed": true
   },
   "outputs": [],
   "source": []
  }
 ],
 "metadata": {
  "kernelspec": {
   "display_name": "Python 2",
   "language": "python",
   "name": "python2"
  },
  "language_info": {
   "codemirror_mode": {
    "name": "ipython",
    "version": 2
   },
   "file_extension": ".py",
   "mimetype": "text/x-python",
   "name": "python",
   "nbconvert_exporter": "python",
   "pygments_lexer": "ipython2",
   "version": "2.7.10"
  }
 },
 "nbformat": 4,
 "nbformat_minor": 0
}
