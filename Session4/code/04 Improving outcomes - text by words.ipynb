{
 "cells": [
  {
   "cell_type": "markdown",
   "metadata": {
    "collapsed": true
   },
   "source": [
    "# Improving outcomes - text by words\n",
    "\n",
    "Using the whole string as one didn't help maybe splitting up the text into single words might.\n",
    "\n",
    "We will also look at stop words as well."
   ]
  },
  {
   "cell_type": "code",
   "execution_count": null,
   "metadata": {
    "collapsed": true
   },
   "outputs": [],
   "source": [
    "# Imports\n",
    "from sklearn import metrics\n",
    "from sklearn.tree import DecisionTreeClassifier\n",
    "from sklearn.feature_extraction.text import CountVectorizer\n",
    "import pandas as pd\n",
    "import numpy as np"
   ]
  },
  {
   "cell_type": "code",
   "execution_count": null,
   "metadata": {
    "collapsed": false
   },
   "outputs": [],
   "source": [
    "# Training Data\n",
    "training_raw = pd.read_table(\"../data/training_data.dat\")\n",
    "df_training = pd.DataFrame(training_raw)\n",
    "\n",
    "# test Data\n",
    "test_raw = pd.read_table(\"../data/test_data.dat\")\n",
    "df_test = pd.DataFrame(test_raw)\n",
    "\n",
    "# target names\n",
    "target_categories = ['Unclassified','Art','Aviation','Boating','Camping /Walking /Climbing','Collecting']\n",
    "target_values = ['1','528','529','530','531','532']\n",
    "\n",
    "# features\n",
    "feature_names_integers = ['Barcode','UnitRRP']\n",
    "training_data_integers = df_training[feature_names_integers].values\n",
    "training_data_integers[:3]"
   ]
  },
  {
   "cell_type": "code",
   "execution_count": null,
   "metadata": {
    "collapsed": false
   },
   "outputs": [],
   "source": [
    "df_training['Description'][:3]"
   ]
  },
  {
   "cell_type": "code",
   "execution_count": null,
   "metadata": {
    "collapsed": false
   },
   "outputs": [],
   "source": [
    "# Rather than Vectorizing the string as a whole do each word\n",
    "count_vect = CountVectorizer()\n",
    "count_vect.fit(df_training['Description'])\n",
    "training_data_description_vect_matrix = count_vect.transform(df_training['Description'])\n",
    "training_data_description_vect_matrix.shape"
   ]
  },
  {
   "cell_type": "code",
   "execution_count": null,
   "metadata": {
    "collapsed": false
   },
   "outputs": [],
   "source": [
    "training_data_description_vect_matrix.__class__"
   ]
  },
  {
   "cell_type": "code",
   "execution_count": null,
   "metadata": {
    "collapsed": false
   },
   "outputs": [],
   "source": [
    "training_data_description_vect_matrix"
   ]
  },
  {
   "cell_type": "code",
   "execution_count": null,
   "metadata": {
    "collapsed": false
   },
   "outputs": [],
   "source": [
    "print('Description: \"{}\" - \"todays\" word number: {} \"pilot\" word number: {}').format(\n",
    "    df_training['Description'][0],count_vect.vocabulary_.get(u'todays'),count_vect.vocabulary_.get(u'pilot'))"
   ]
  },
  {
   "cell_type": "code",
   "execution_count": null,
   "metadata": {
    "collapsed": false
   },
   "outputs": [],
   "source": [
    "# So we work with the vectorized text along side the barcode and price, convert it to an array\n",
    "training_data_description_vect = training_data_description_vect_matrix.toarray()\n",
    "training_data_description_vect[0][201:220]"
   ]
  },
  {
   "cell_type": "code",
   "execution_count": null,
   "metadata": {
    "collapsed": false
   },
   "outputs": [],
   "source": [
    "# Using numpy's hstack append the vectorized text to the barcode and price\n",
    "training_data_combined = np.hstack((training_data_integers,training_data_description_vect))\n",
    "training_data_combined[0][201:220]"
   ]
  },
  {
   "cell_type": "code",
   "execution_count": null,
   "metadata": {
    "collapsed": false
   },
   "outputs": [],
   "source": [
    "# Train the model\n",
    "model = DecisionTreeClassifier(random_state=511)\n",
    "target = df_training[\"CategoryID\"].values\n",
    "model.fit(training_data_combined, target)"
   ]
  },
  {
   "cell_type": "code",
   "execution_count": null,
   "metadata": {
    "collapsed": false
   },
   "outputs": [],
   "source": [
    "# Do all this again for the test data\n",
    "test_data_integers = df_test[feature_names_integers].values\n",
    "test_data_description_vect_matrix = count_vect.transform(df_test['Description'])\n",
    "test_data_description_vect = test_data_description_vect_matrix.toarray()\n",
    "test_data_combined = np.hstack((test_data_integers,test_data_description_vect))\n",
    "test_data_combined[0][:20]"
   ]
  },
  {
   "cell_type": "code",
   "execution_count": null,
   "metadata": {
    "collapsed": false
   },
   "outputs": [],
   "source": [
    "predicted = model.predict(test_data_combined)"
   ]
  },
  {
   "cell_type": "code",
   "execution_count": null,
   "metadata": {
    "collapsed": true
   },
   "outputs": [],
   "source": [
    "expected = df_test[\"CategoryID\"].values"
   ]
  },
  {
   "cell_type": "code",
   "execution_count": null,
   "metadata": {
    "collapsed": false
   },
   "outputs": [],
   "source": [
    "print(metrics.classification_report(expected, predicted,    target_names=target_categories))"
   ]
  },
  {
   "cell_type": "code",
   "execution_count": null,
   "metadata": {
    "collapsed": false
   },
   "outputs": [],
   "source": [
    "print(metrics.confusion_matrix(expected, predicted))"
   ]
  },
  {
   "cell_type": "code",
   "execution_count": null,
   "metadata": {
    "collapsed": false
   },
   "outputs": [],
   "source": [
    "metrics.accuracy_score(expected, predicted, normalize=True, sample_weight=None)"
   ]
  },
  {
   "cell_type": "markdown",
   "metadata": {
    "collapsed": true
   },
   "source": [
    "So an increase from 46%/47% to 54%"
   ]
  },
  {
   "cell_type": "markdown",
   "metadata": {},
   "source": [
    "## Stop words\n",
    "\n",
    "As we saw in the text processing session some words just add noise to the data set.\n",
    "\n",
    "So would adding the english stop words help?"
   ]
  },
  {
   "cell_type": "code",
   "execution_count": null,
   "metadata": {
    "collapsed": false
   },
   "outputs": [],
   "source": [
    "count_vect_stop = CountVectorizer(stop_words='english')\n",
    "count_vect_stop.fit(df_training['Description'])\n",
    "training_data_stop_description_vect_matrix = count_vect_stop.transform(df_training['Description'])\n",
    "training_data_stop_description_vect = training_data_stop_description_vect_matrix.toarray()\n",
    "training_data_stop_combined = np.hstack((training_data_integers,training_data_stop_description_vect))\n",
    "model = DecisionTreeClassifier(random_state=511)\n",
    "model.fit(training_data_stop_combined, target)\n",
    "test_data_stop_integers = df_test[feature_names_integers].values\n",
    "test_data_stop_description_vect_matrix = count_vect_stop.transform(df_test['Description'])\n",
    "test_data_stop_description_vect = test_data_stop_description_vect_matrix.toarray()\n",
    "test_data_stop_combined = np.hstack((test_data_stop_integers,test_data_stop_description_vect))\n",
    "predicted_stop = model.predict(test_data_stop_combined)\n",
    "metrics.accuracy_score(expected, predicted_stop, normalize=True, sample_weight=None)"
   ]
  },
  {
   "cell_type": "code",
   "execution_count": null,
   "metadata": {
    "collapsed": false
   },
   "outputs": [],
   "source": [
    "count_vect_stop.get_stop_words()"
   ]
  },
  {
   "cell_type": "code",
   "execution_count": null,
   "metadata": {
    "collapsed": false
   },
   "outputs": [],
   "source": [
    "count_vect_stop = CountVectorizer(stop_words=['the'])\n",
    "count_vect_stop.fit(df_training['Description'])\n",
    "training_data_stop_description_vect_matrix = count_vect_stop.transform(df_training['Description'])\n",
    "training_data_stop_description_vect = training_data_stop_description_vect_matrix.toarray()\n",
    "training_data_stop_combined = np.hstack((training_data_integers,training_data_stop_description_vect))\n",
    "model = DecisionTreeClassifier(random_state=511)\n",
    "model.fit(training_data_stop_combined, target)\n",
    "test_data_stop_integers = df_test[feature_names_integers].values\n",
    "test_data_stop_description_vect_matrix = count_vect_stop.transform(df_test['Description'])\n",
    "test_data_stop_description_vect = test_data_stop_description_vect_matrix.toarray()\n",
    "test_data_stop_combined = np.hstack((test_data_stop_integers,test_data_stop_description_vect))\n",
    "predicted_stop = model.predict(test_data_stop_combined)\n",
    "metrics.accuracy_score(expected, predicted_stop, normalize=True, sample_weight=None)"
   ]
  },
  {
   "cell_type": "code",
   "execution_count": null,
   "metadata": {
    "collapsed": true
   },
   "outputs": [],
   "source": []
  }
 ],
 "metadata": {
  "kernelspec": {
   "display_name": "Python 2",
   "language": "python",
   "name": "python2"
  },
  "language_info": {
   "codemirror_mode": {
    "name": "ipython",
    "version": 2
   },
   "file_extension": ".py",
   "mimetype": "text/x-python",
   "name": "python",
   "nbconvert_exporter": "python",
   "pygments_lexer": "ipython2",
   "version": "2.7.11"
  }
 },
 "nbformat": 4,
 "nbformat_minor": 0
}
