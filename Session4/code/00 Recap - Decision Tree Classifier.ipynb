{
 "cells": [
  {
   "cell_type": "code",
   "execution_count": null,
   "metadata": {
    "collapsed": true
   },
   "outputs": [],
   "source": [
    "from sklearn import datasets\n",
    "from sklearn import metrics\n",
    "from sklearn.tree import DecisionTreeClassifier\n",
    "import pandas as pd\n",
    "\n",
    "iris = datasets.load_iris()\n",
    "digits = datasets.load_digits()"
   ]
  },
  {
   "cell_type": "markdown",
   "metadata": {},
   "source": [
    "# Data Set composition\n",
    "\n",
    "## iris data set\n",
    "\n",
    "- DESCR: ASCII Text description of the data\n",
    "- data: The source data in array\n",
    "- feature_names: The name of the attributes in the data\n",
    "- target: The target values in an array\n",
    "- target_names: Descriptions for the target values "
   ]
  },
  {
   "cell_type": "code",
   "execution_count": null,
   "metadata": {
    "collapsed": false
   },
   "outputs": [],
   "source": [
    "print(iris.DESCR[:172] + ' ...')\n",
    "print(iris.feature_names)\n",
    "print(iris.data[45:54])\n",
    "print(iris.target[45:54])\n",
    "print(iris.target_names)"
   ]
  },
  {
   "cell_type": "markdown",
   "metadata": {},
   "source": [
    "# Recap - Decision Tree Classifier"
   ]
  },
  {
   "cell_type": "code",
   "execution_count": null,
   "metadata": {
    "collapsed": false
   },
   "outputs": [],
   "source": [
    "lfeat = iris.feature_names\n",
    "df_iris = pd.DataFrame(iris.data, columns = lfeat)\n",
    "model = DecisionTreeClassifier()\n",
    "data = df_iris[lfeat].values\n",
    "df_iris[\"Species\"] = iris.target\n",
    "target = df_iris[\"Species\"].values\n",
    "model.fit(data, target)\n",
    "expected = target\n",
    "predicted = model.predict(data)\n",
    "print(metrics.classification_report(expected, predicted))\n",
    "print(metrics.confusion_matrix(expected, predicted))"
   ]
  },
  {
   "cell_type": "code",
   "execution_count": null,
   "metadata": {
    "collapsed": true
   },
   "outputs": [],
   "source": []
  }
 ],
 "metadata": {
  "kernelspec": {
   "display_name": "Python 2",
   "language": "python",
   "name": "python2"
  },
  "language_info": {
   "codemirror_mode": {
    "name": "ipython",
    "version": 2
   },
   "file_extension": ".py",
   "mimetype": "text/x-python",
   "name": "python",
   "nbconvert_exporter": "python",
   "pygments_lexer": "ipython2",
   "version": "2.7.11"
  }
 },
 "nbformat": 4,
 "nbformat_minor": 0
}
