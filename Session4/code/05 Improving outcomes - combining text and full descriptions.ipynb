{
 "cells": [
  {
   "cell_type": "markdown",
   "metadata": {},
   "source": [
    "# Improving outcomes - combining text and full descriptions\n",
    "\n",
    "How we will see if combining the text last time with the full descriptions has any effect."
   ]
  },
  {
   "cell_type": "code",
   "execution_count": 108,
   "metadata": {
    "collapsed": true
   },
   "outputs": [],
   "source": [
    "# Imports\n",
    "from sklearn import metrics\n",
    "from sklearn.tree import DecisionTreeClassifier\n",
    "from sklearn.feature_extraction.text import CountVectorizer\n",
    "import pandas as pd\n",
    "import numpy as np"
   ]
  },
  {
   "cell_type": "code",
   "execution_count": 109,
   "metadata": {
    "collapsed": false
   },
   "outputs": [],
   "source": [
    "# Training Data\n",
    "training_raw = pd.read_table(\"../data/training_data.dat\")\n",
    "df_training = pd.DataFrame(training_raw)\n",
    "\n",
    "# test Data\n",
    "test_raw = pd.read_table(\"../data/test_data.dat\")\n",
    "df_test = pd.DataFrame(test_raw)\n",
    "\n",
    "# target names\n",
    "target_categories = ['Unclassified','Art','Aviation','Boating','Camping /Walking /Climbing','Collecting']\n",
    "target_values = ['1','528','529','530','531','532']"
   ]
  },
  {
   "cell_type": "code",
   "execution_count": null,
   "metadata": {
    "collapsed": false
   },
   "outputs": [],
   "source": [
    "# features\n",
    "feature_names_integers = ['Barcode','UnitRRP']\n",
    "training_data_integers = df_training[feature_names_integers].values\n",
    "training_data_integers[:3]"
   ]
  },
  {
   "cell_type": "code",
   "execution_count": null,
   "metadata": {
    "collapsed": false
   },
   "outputs": [],
   "source": [
    "df_training['NewDescription'] = df_training['Description'].replace({' ': ''}, regex=True)\n",
    "df_training['FullDescription'] = df_training[['Description','NewDescription']].apply(lambda x: ' '.join(x), axis=1)\n",
    "df_training.head()"
   ]
  },
  {
   "cell_type": "code",
   "execution_count": null,
   "metadata": {
    "collapsed": false
   },
   "outputs": [],
   "source": [
    "df_test['NewDescription'] = df_test['Description'].replace({' ': ''}, regex=True)\n",
    "df_test['FullDescription'] = df_test[['Description','NewDescription']].apply(lambda x: ' '.join(x), axis=1)\n",
    "df_test.head()"
   ]
  },
  {
   "cell_type": "code",
   "execution_count": null,
   "metadata": {
    "collapsed": false
   },
   "outputs": [],
   "source": [
    "# Rather than Vectorizing the string as a whole do each word in the new full description\n",
    "count_vect = CountVectorizer()\n",
    "count_vect.fit(df_training['FullDescription'])\n",
    "training_data_description_vect_matrix = count_vect.transform(df_training['FullDescription'])\n",
    "training_data_description_vect_matrix.shape"
   ]
  },
  {
   "cell_type": "code",
   "execution_count": null,
   "metadata": {
    "collapsed": false
   },
   "outputs": [],
   "source": [
    "# So we work with the vectorized text along side the barcode and price, convert it to an array\n",
    "training_data_description_vect = training_data_description_vect_matrix.toarray()\n",
    "training_data_description_vect[0][420:]"
   ]
  },
  {
   "cell_type": "code",
   "execution_count": null,
   "metadata": {
    "collapsed": false
   },
   "outputs": [],
   "source": [
    "print('Description: \"{}\" - \"todays\" word number: {} \"pilot\" word number: {}  \"todayspilot\" word number: {}').format(\n",
    "    df_training['Description'][0],count_vect.vocabulary_.get(u'todays'),count_vect.vocabulary_.get(u'pilot'),\n",
    "    count_vect.vocabulary_.get(u'todayspilot'))"
   ]
  },
  {
   "cell_type": "code",
   "execution_count": null,
   "metadata": {
    "collapsed": false
   },
   "outputs": [],
   "source": [
    "# Using numpy's hstack append the vectorized text to the barcode and price\n",
    "training_data_combined = np.hstack((training_data_integers,training_data_description_vect))\n",
    "training_data_combined[0][:20]"
   ]
  },
  {
   "cell_type": "code",
   "execution_count": null,
   "metadata": {
    "collapsed": false
   },
   "outputs": [],
   "source": [
    "# Train the model\n",
    "model = DecisionTreeClassifier(random_state=511)\n",
    "target = df_training[\"CategoryID\"].values\n",
    "model.fit(training_data_combined, target)"
   ]
  },
  {
   "cell_type": "code",
   "execution_count": null,
   "metadata": {
    "collapsed": false
   },
   "outputs": [],
   "source": [
    "# Do all this again for the test data\n",
    "test_data_integers = df_test[feature_names_integers].values\n",
    "test_data_description_vect_matrix = count_vect.transform(df_test['FullDescription'])\n",
    "test_data_description_vect = test_data_description_vect_matrix.toarray()\n",
    "test_data_combined = np.hstack((test_data_integers,test_data_description_vect))\n",
    "test_data_combined[0][:20]"
   ]
  },
  {
   "cell_type": "code",
   "execution_count": null,
   "metadata": {
    "collapsed": true
   },
   "outputs": [],
   "source": [
    "predicted = model.predict(test_data_combined)\n",
    "expected = df_test[\"CategoryID\"].values"
   ]
  },
  {
   "cell_type": "code",
   "execution_count": null,
   "metadata": {
    "collapsed": false
   },
   "outputs": [],
   "source": [
    "print(metrics.classification_report(expected, predicted,    target_names=target_categories))"
   ]
  },
  {
   "cell_type": "code",
   "execution_count": null,
   "metadata": {
    "collapsed": false
   },
   "outputs": [],
   "source": [
    "print(metrics.confusion_matrix(expected, predicted))"
   ]
  },
  {
   "cell_type": "code",
   "execution_count": null,
   "metadata": {
    "collapsed": false
   },
   "outputs": [],
   "source": [
    "metrics.accuracy_score(expected, predicted, normalize=True, sample_weight=None)"
   ]
  },
  {
   "cell_type": "markdown",
   "metadata": {
    "collapsed": true
   },
   "source": [
    "So an decrease from 54% to 51%"
   ]
  },
  {
   "cell_type": "code",
   "execution_count": null,
   "metadata": {
    "collapsed": false
   },
   "outputs": [],
   "source": [
    "df_training.head()"
   ]
  },
  {
   "cell_type": "code",
   "execution_count": null,
   "metadata": {
    "collapsed": false
   },
   "outputs": [],
   "source": [
    "df_training['Description'].str.split()"
   ]
  },
  {
   "cell_type": "code",
   "execution_count": null,
   "metadata": {
    "collapsed": false
   },
   "outputs": [],
   "source": [
    "df_training['Description'].str.split().apply(lambda x: ' '.join(x))"
   ]
  },
  {
   "cell_type": "code",
   "execution_count": null,
   "metadata": {
    "collapsed": false
   },
   "outputs": [],
   "source": [
    "# Lets try sorting the description\n",
    "for index, row in df_training.iterrows():\n",
    "    str_list = row['Description'].lower().split()\n",
    "    str_list.sort()\n",
    "    result = ''.join(str_list)\n",
    "    df_training.set_value(index,'SortedDescription', result)\n",
    "df_training.head()"
   ]
  },
  {
   "cell_type": "code",
   "execution_count": null,
   "metadata": {
    "collapsed": false
   },
   "outputs": [],
   "source": [
    "df_training['FullDescription2'] = df_training[['Description','SortedDescription']].apply(lambda x: ' '.join(x), axis=1)\n",
    "df_training.head()"
   ]
  },
  {
   "cell_type": "code",
   "execution_count": null,
   "metadata": {
    "collapsed": false
   },
   "outputs": [],
   "source": [
    "# Rather than Vectorizing the string as a whole do each word in the new full description\n",
    "count_vect = CountVectorizer()\n",
    "count_vect.fit(df_training['FullDescription2'])\n",
    "training_data_description_vect_matrix = count_vect.transform(df_training['FullDescription2'])\n",
    "training_data_description_vect_matrix.shape"
   ]
  },
  {
   "cell_type": "code",
   "execution_count": null,
   "metadata": {
    "collapsed": false
   },
   "outputs": [],
   "source": [
    "training_data_description_vect = training_data_description_vect_matrix.toarray()\n",
    "training_data_combined = np.hstack((training_data_integers,training_data_description_vect))\n",
    "# Train the model\n",
    "model = DecisionTreeClassifier(random_state=511)\n",
    "model.fit(training_data_combined, target)"
   ]
  },
  {
   "cell_type": "code",
   "execution_count": null,
   "metadata": {
    "collapsed": true
   },
   "outputs": [],
   "source": [
    "for index, row in df_test.iterrows():\n",
    "    str_list = row['Description'].lower().split()\n",
    "    str_list.sort()\n",
    "    result = ''.join(str_list)\n",
    "    df_test.set_value(index,'SortedDescription', result)\n",
    "df_test['FullDescription2'] = df_test[['Description','SortedDescription']].apply(lambda x: ' '.join(x), axis=1)\n",
    "test_data_description_vect_matrix = count_vect.transform(df_test['FullDescription2'])\n",
    "test_data_description_vect = test_data_description_vect_matrix.toarray()\n",
    "test_data_combined = np.hstack((test_data_integers,test_data_description_vect))"
   ]
  },
  {
   "cell_type": "code",
   "execution_count": null,
   "metadata": {
    "collapsed": false
   },
   "outputs": [],
   "source": [
    "predicted = model.predict(test_data_combined)\n",
    "print(metrics.classification_report(expected, predicted,    target_names=target_categories))\n",
    "print(metrics.confusion_matrix(expected, predicted))\n",
    "metrics.accuracy_score(expected, predicted, normalize=True, sample_weight=None)"
   ]
  },
  {
   "cell_type": "code",
   "execution_count": null,
   "metadata": {
    "collapsed": true
   },
   "outputs": [],
   "source": []
  }
 ],
 "metadata": {
  "kernelspec": {
   "display_name": "Python 2",
   "language": "python",
   "name": "python2"
  },
  "language_info": {
   "codemirror_mode": {
    "name": "ipython",
    "version": 2
   },
   "file_extension": ".py",
   "mimetype": "text/x-python",
   "name": "python",
   "nbconvert_exporter": "python",
   "pygments_lexer": "ipython2",
   "version": "2.7.11"
  }
 },
 "nbformat": 4,
 "nbformat_minor": 0
}
