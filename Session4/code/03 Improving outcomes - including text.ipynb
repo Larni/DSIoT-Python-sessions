{
 "cells": [
  {
   "cell_type": "markdown",
   "metadata": {},
   "source": [
    "# Improving outcomes - including text\n",
    "\n",
    "We finshed the last section with an accuracy score of 0.471204188482 47% (or ~10%).\n",
    "\n",
    "Lets see if we can improve that by using the standard features of Sckit to look at the text as well."
   ]
  },
  {
   "cell_type": "code",
   "execution_count": null,
   "metadata": {
    "collapsed": true
   },
   "outputs": [],
   "source": [
    "# Imports\n",
    "from sklearn import metrics\n",
    "from sklearn.tree import DecisionTreeClassifier\n",
    "from sklearn.feature_extraction import DictVectorizer\n",
    "import pandas as pd"
   ]
  },
  {
   "cell_type": "code",
   "execution_count": null,
   "metadata": {
    "collapsed": true
   },
   "outputs": [],
   "source": [
    "# Training Data\n",
    "training_raw = pd.read_table(\"../data/training_data.dat\")\n",
    "df_training = pd.DataFrame(training_raw)\n",
    "\n",
    "# test Data\n",
    "test_raw = pd.read_table(\"../data/test_data.dat\")\n",
    "df_test = pd.DataFrame(test_raw)\n",
    "df_test.head()\n",
    "\n",
    "# target names\n",
    "target_categories = ['Unclassified','Art','Aviation','Boating','Camping /Walking /Climbing','Collecting']\n",
    "target_values = ['1','528','529','530','531','532']\n",
    "\n",
    "# features\n",
    "feature_names = ['Barcode','Description','UnitRRP']"
   ]
  },
  {
   "cell_type": "code",
   "execution_count": null,
   "metadata": {
    "collapsed": false
   },
   "outputs": [],
   "source": [
    "# Extract features from panda and convert into a dictionary\n",
    "x_df_training = df_training[feature_names].T.to_dict().values()\n",
    "x_df_training[:2]"
   ]
  },
  {
   "cell_type": "code",
   "execution_count": null,
   "metadata": {
    "collapsed": true
   },
   "outputs": [],
   "source": [
    "# Create vectorizer class\n",
    "# We use sparse = False so we get an array rather than scipy.sparse matrix\n",
    "# This is so we can see the values\n",
    "vectorizer = DictVectorizer( sparse = False )"
   ]
  },
  {
   "cell_type": "code",
   "execution_count": null,
   "metadata": {
    "collapsed": false
   },
   "outputs": [],
   "source": [
    "# Create a feature to indices mapping\n",
    "vectorizer.fit( x_df_training )"
   ]
  },
  {
   "cell_type": "code",
   "execution_count": null,
   "metadata": {
    "collapsed": false
   },
   "outputs": [],
   "source": [
    "# vectorizer all the dictionaries\n",
    "vec_x_df_training = vectorizer.transform( x_df_training )\n",
    "vec_x_df_training[0]"
   ]
  },
  {
   "cell_type": "code",
   "execution_count": null,
   "metadata": {
    "collapsed": false
   },
   "outputs": [],
   "source": [
    "# Extract target results from panda\n",
    "target = df_training[\"CategoryID\"].values"
   ]
  },
  {
   "cell_type": "code",
   "execution_count": null,
   "metadata": {
    "collapsed": true
   },
   "outputs": [],
   "source": [
    "# Create classifier class\n",
    "model = DecisionTreeClassifier(random_state=511)"
   ]
  },
  {
   "cell_type": "code",
   "execution_count": null,
   "metadata": {
    "collapsed": false
   },
   "outputs": [],
   "source": [
    "# train model\n",
    "model.fit(vec_x_df_training, target)"
   ]
  },
  {
   "cell_type": "code",
   "execution_count": null,
   "metadata": {
    "collapsed": false
   },
   "outputs": [],
   "source": [
    "# Extract test data\n",
    "x_df_test = df_test[feature_names].T.to_dict().values()\n",
    "x_df_test[0]"
   ]
  },
  {
   "cell_type": "code",
   "execution_count": null,
   "metadata": {
    "collapsed": false
   },
   "outputs": [],
   "source": [
    "# vectorizer test data\n",
    "vec_x_df_test = vectorizer.transform( x_df_test )\n",
    "vec_x_df_test[0]"
   ]
  },
  {
   "cell_type": "code",
   "execution_count": null,
   "metadata": {
    "collapsed": true
   },
   "outputs": [],
   "source": [
    "# Test the model\n",
    "expected = df_test[\"CategoryID\"].values\n",
    "predicted = model.predict(vec_x_df_test)"
   ]
  },
  {
   "cell_type": "code",
   "execution_count": null,
   "metadata": {
    "collapsed": false
   },
   "outputs": [],
   "source": [
    "print(metrics.classification_report(expected, predicted,    target_names=target_categories))"
   ]
  },
  {
   "cell_type": "code",
   "execution_count": null,
   "metadata": {
    "collapsed": false
   },
   "outputs": [],
   "source": [
    "print(metrics.confusion_matrix(expected, predicted))"
   ]
  },
  {
   "cell_type": "code",
   "execution_count": null,
   "metadata": {
    "collapsed": false
   },
   "outputs": [],
   "source": [
    "metrics.accuracy_score(expected, predicted, normalize=True, sample_weight=None)"
   ]
  },
  {
   "cell_type": "markdown",
   "metadata": {},
   "source": [
    "So we have failed to improve going from 47% to 46%.\n",
    "\n",
    "Looking at the data why so little change."
   ]
  },
  {
   "cell_type": "code",
   "execution_count": null,
   "metadata": {
    "collapsed": false
   },
   "outputs": [],
   "source": [
    "df_training[df_training[\"CategoryID\"]==529][:15]"
   ]
  },
  {
   "cell_type": "code",
   "execution_count": null,
   "metadata": {
    "collapsed": false
   },
   "outputs": [],
   "source": [
    "df_test[df_test[\"CategoryID\"]==529][:15]"
   ]
  },
  {
   "cell_type": "code",
   "execution_count": null,
   "metadata": {
    "collapsed": true
   },
   "outputs": [],
   "source": []
  },
  {
   "cell_type": "code",
   "execution_count": null,
   "metadata": {
    "collapsed": true
   },
   "outputs": [],
   "source": []
  }
 ],
 "metadata": {
  "kernelspec": {
   "display_name": "Python 2",
   "language": "python",
   "name": "python2"
  },
  "language_info": {
   "codemirror_mode": {
    "name": "ipython",
    "version": 2
   },
   "file_extension": ".py",
   "mimetype": "text/x-python",
   "name": "python",
   "nbconvert_exporter": "python",
   "pygments_lexer": "ipython2",
   "version": "2.7.11"
  }
 },
 "nbformat": 4,
 "nbformat_minor": 0
}
