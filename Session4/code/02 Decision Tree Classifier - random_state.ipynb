{
 "cells": [
  {
   "cell_type": "markdown",
   "metadata": {},
   "source": [
    "# Decision Tree Classifier - random_state\n",
    "\n",
    "In the previous notebook we got an accuracy score of just over 40%.\n",
    "\n",
    "Lets just do that again."
   ]
  },
  {
   "cell_type": "code",
   "execution_count": 15,
   "metadata": {
    "collapsed": false
   },
   "outputs": [
    {
     "name": "stdout",
     "output_type": "stream",
     "text": [
      "                            precision    recall  f1-score   support\n",
      "\n",
      "              Unclassified       0.33      0.05      0.08        43\n",
      "                       Art       0.39      0.80      0.52        20\n",
      "                  Aviation       0.50      0.56      0.53        54\n",
      "                   Boating       0.47      0.57      0.52        28\n",
      "Camping /Walking /Climbing       0.42      0.53      0.47        15\n",
      "                Collecting       0.61      0.61      0.61        31\n",
      "\n",
      "               avg / total       0.46      0.48      0.43       191\n",
      "\n",
      "[[ 2  0 24  9  5  3]\n",
      " [ 1 16  1  2  0  0]\n",
      " [ 1 16 30  1  4  2]\n",
      " [ 0  4  3 16  1  4]\n",
      " [ 2  0  2  0  8  3]\n",
      " [ 0  5  0  6  1 19]]\n",
      "0.476439790576\n"
     ]
    }
   ],
   "source": [
    "# Imports\n",
    "from sklearn import metrics\n",
    "from sklearn.tree import DecisionTreeClassifier\n",
    "import pandas as pd\n",
    "\n",
    "# Training Data\n",
    "training_raw = pd.read_table(\"../data/training_data.dat\")\n",
    "df_training = pd.DataFrame(training_raw)\n",
    "# test Data\n",
    "test_raw = pd.read_table(\"../data/test_data.dat\")\n",
    "df_test = pd.DataFrame(test_raw)\n",
    "# target names\n",
    "target_categories = ['Unclassified','Art','Aviation','Boating','Camping /Walking /Climbing','Collecting']\n",
    "# Extract target results from panda\n",
    "target = df_training[\"CategoryID\"].values\n",
    "# Create classifier class\n",
    "model_dtc = DecisionTreeClassifier()\n",
    "# features\n",
    "feature_names_integers = ['Barcode','UnitRRP']\n",
    "# Extra features from panda (without description)\n",
    "training_data_integers = df_training[feature_names_integers].values\n",
    "training_data_integers[:3]\n",
    "# train model\n",
    "model_dtc.fit(training_data_integers, target)\n",
    "# Extract test data and test the model\n",
    "test_data_integers = df_test[feature_names_integers].values\n",
    "test_target = df_test[\"CategoryID\"].values\n",
    "expected = test_target\n",
    "predicted_dtc = model_dtc.predict(test_data_integers)\n",
    "print(metrics.classification_report(expected, predicted_dtc, target_names=target_categories))\n",
    "print(metrics.confusion_matrix(expected, predicted_dtc))\n",
    "print(metrics.accuracy_score(expected, predicted_dtc, normalize=True, sample_weight=None))"
   ]
  },
  {
   "cell_type": "markdown",
   "metadata": {},
   "source": [
    "and again."
   ]
  },
  {
   "cell_type": "code",
   "execution_count": 16,
   "metadata": {
    "collapsed": false
   },
   "outputs": [
    {
     "name": "stdout",
     "output_type": "stream",
     "text": [
      "0.460732984293\n"
     ]
    }
   ],
   "source": [
    "model_dtc = DecisionTreeClassifier()\n",
    "model_dtc.fit(training_data_integers, target)\n",
    "predicted_dtc = model_dtc.predict(test_data_integers)\n",
    "print(metrics.accuracy_score(expected, predicted_dtc, normalize=True, sample_weight=None))"
   ]
  },
  {
   "cell_type": "markdown",
   "metadata": {},
   "source": [
    "one more time :)"
   ]
  },
  {
   "cell_type": "code",
   "execution_count": 17,
   "metadata": {
    "collapsed": false
   },
   "outputs": [
    {
     "name": "stdout",
     "output_type": "stream",
     "text": [
      "0.434554973822\n"
     ]
    }
   ],
   "source": [
    "model_dtc = DecisionTreeClassifier()\n",
    "model_dtc.fit(training_data_integers, target)\n",
    "predicted_dtc = model_dtc.predict(test_data_integers)\n",
    "print(metrics.accuracy_score(expected, predicted_dtc, normalize=True, sample_weight=None))"
   ]
  },
  {
   "cell_type": "markdown",
   "metadata": {},
   "source": [
    "We see that the results are not the same. This is because the Decision Tree Classifier chooses a feature at random in order to try to avoid overfitting. As we are about to start trying to improve the results by trying different strategies of preparing and loading data having varying will be unhelpful.\n",
    "\n",
    "To aviod this we can manually set the random_state."
   ]
  },
  {
   "cell_type": "code",
   "execution_count": 18,
   "metadata": {
    "collapsed": false
   },
   "outputs": [
    {
     "name": "stdout",
     "output_type": "stream",
     "text": [
      "0.471204188482\n"
     ]
    }
   ],
   "source": [
    "model_dtc = DecisionTreeClassifier(random_state=511)\n",
    "model_dtc.fit(training_data_integers, target)\n",
    "predicted_dtc = model_dtc.predict(test_data_integers)\n",
    "print(metrics.accuracy_score(expected, predicted_dtc, normalize=True, sample_weight=None))"
   ]
  },
  {
   "cell_type": "code",
   "execution_count": 19,
   "metadata": {
    "collapsed": false
   },
   "outputs": [
    {
     "name": "stdout",
     "output_type": "stream",
     "text": [
      "0.471204188482\n"
     ]
    }
   ],
   "source": [
    "model_dtc = DecisionTreeClassifier(random_state=511)\n",
    "model_dtc.fit(training_data_integers, target)\n",
    "predicted_dtc = model_dtc.predict(test_data_integers)\n",
    "print(metrics.accuracy_score(expected, predicted_dtc, normalize=True, sample_weight=None))"
   ]
  },
  {
   "cell_type": "code",
   "execution_count": null,
   "metadata": {
    "collapsed": true
   },
   "outputs": [],
   "source": []
  }
 ],
 "metadata": {
  "kernelspec": {
   "display_name": "Python 2",
   "language": "python",
   "name": "python2"
  },
  "language_info": {
   "codemirror_mode": {
    "name": "ipython",
    "version": 2
   },
   "file_extension": ".py",
   "mimetype": "text/x-python",
   "name": "python",
   "nbconvert_exporter": "python",
   "pygments_lexer": "ipython2",
   "version": "2.7.11"
  }
 },
 "nbformat": 4,
 "nbformat_minor": 0
}
